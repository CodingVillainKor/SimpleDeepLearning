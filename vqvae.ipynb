{
 "cells": [
  {
   "cell_type": "code",
   "execution_count": null,
   "metadata": {},
   "outputs": [],
   "source": [
    "import torch\n",
    "import torch.nn as nn\n",
    "import torch.optim as optim\n",
    "from torchvision import datasets, transforms\n",
    "from torch.utils.data import DataLoader\n",
    "import cv2\n",
    "import numpy as np\n",
    "torch.manual_seed(41)"
   ]
  },
  {
   "cell_type": "markdown",
   "metadata": {},
   "source": [
    "### 1. Load MNIST dataset"
   ]
  },
  {
   "cell_type": "code",
   "execution_count": null,
   "metadata": {},
   "outputs": [],
   "source": [
    "# 1. Load MNIST dataset\n",
    "transform = transforms.Compose([transforms.ToTensor()])\n",
    "train_dataset = datasets.MNIST(\n",
    "    root=\"./data\", train=True, download=True, transform=transform\n",
    ")\n",
    "train_loader = DataLoader(train_dataset, batch_size=4096, shuffle=False)\n"
   ]
  },
  {
   "cell_type": "markdown",
   "metadata": {},
   "source": [
    "### 2. Define VQVAE model"
   ]
  },
  {
   "cell_type": "code",
   "execution_count": null,
   "metadata": {},
   "outputs": [],
   "source": [
    "\n",
    "class VQVAE(nn.Module):\n",
    "    def __init__(self):\n",
    "        super(VQVAE, self).__init__()\n",
    "        self.encoder = nn.Sequential(\n",
    "            nn.Conv2d(1, 4, 4, stride=4, padding=0),\n",
    "            nn.BatchNorm2d(4),\n",
    "            nn.ReLU()\n",
    "        )\n",
    "\n",
    "        self.pre_quant_conv = nn.Conv2d(4, 2, kernel_size=1)\n",
    "        self.embedding = nn.Embedding(num_embeddings=10, embedding_dim=2)\n",
    "        self.post_quant_conv = nn.Conv2d(2, 4, kernel_size=1)\n",
    "\n",
    "        # Commitment Loss Beta\n",
    "        self.beta = 0.2\n",
    "\n",
    "        self.decoder = nn.Sequential(\n",
    "            nn.ConvTranspose2d(4, 16, 4, stride=2, padding=1),\n",
    "            nn.BatchNorm2d(16),\n",
    "            nn.ReLU(),\n",
    "            nn.ConvTranspose2d(16, 1, 4, stride=2, padding=1),\n",
    "            nn.Sigmoid(),\n",
    "        )\n",
    "\n",
    "    def forward(self, x):\n",
    "        # B, C, H, W\n",
    "        encoded_output = self.encoder(x)\n",
    "        quant_input = self.pre_quant_conv(encoded_output)\n",
    "\n",
    "        ## Quantization\n",
    "        B, C, H, W = quant_input.shape\n",
    "        quant_input = quant_input.permute(0, 2, 3, 1)\n",
    "        quant_input = quant_input.reshape(\n",
    "            (quant_input.size(0), -1, quant_input.size(-1))\n",
    "        )\n",
    "\n",
    "        # Compute pairwise distances\n",
    "        dist = torch.cdist(\n",
    "            quant_input,\n",
    "            self.embedding.weight[None, :].repeat((quant_input.size(0), 1, 1)),\n",
    "        )\n",
    "\n",
    "        # Find index of nearest embedding\n",
    "        min_encoding_indices = torch.argmin(dist, dim=-1)\n",
    "\n",
    "        # Select the embedding weights\n",
    "        quant_out = torch.index_select(\n",
    "            self.embedding.weight, 0, min_encoding_indices.view(-1)\n",
    "        )\n",
    "        quant_input = quant_input.reshape((-1, quant_input.size(-1)))\n",
    "\n",
    "        # Compute losses\n",
    "        commitment_loss = torch.mean((quant_out.detach() - quant_input) ** 2)\n",
    "        codebook_loss = torch.mean((quant_out - quant_input.detach()) ** 2)\n",
    "        quantize_losses = codebook_loss + commitment_loss * 0.1\n",
    "        quant_out = quant_input + (quant_out - quant_input).detach()\n",
    "\n",
    "        # Reshaping back to original input shape\n",
    "        quant_out = quant_out.reshape((B, H, W, C)).permute(0, 3, 1, 2)\n",
    "        min_encoding_indices = min_encoding_indices.reshape(\n",
    "            (-1, quant_out.size(-2), quant_out.size(-1))\n",
    "        )\n",
    "\n",
    "        ## Decoder part\n",
    "        decoder_input = self.post_quant_conv(quant_out)\n",
    "        output = self.decoder(decoder_input)\n",
    "        return output, quantize_losses"
   ]
  },
  {
   "cell_type": "markdown",
   "metadata": {},
   "source": [
    "### 3. Initialize model, optimizer, scheduler"
   ]
  },
  {
   "cell_type": "code",
   "execution_count": null,
   "metadata": {},
   "outputs": [],
   "source": [
    "model = VQVAE().cuda()\n",
    "optimizer = optim.AdamW(model.parameters(), lr=2e-3)\n",
    "scheduler = optim.lr_scheduler.StepLR(optimizer, step_size=1, gamma=0.95)"
   ]
  },
  {
   "cell_type": "markdown",
   "metadata": {},
   "source": [
    "### 4. Training loop"
   ]
  },
  {
   "cell_type": "code",
   "execution_count": null,
   "metadata": {},
   "outputs": [],
   "source": [
    "model.train()\n",
    "for epoch in range(20):\n",
    "    for batch_idx, (data, _) in enumerate(train_loader):\n",
    "        data = data.cuda()\n",
    "        optimizer.zero_grad()\n",
    "        out, quantize_loss = model(data)\n",
    "        recon_loss = torch.nn.functional.mse_loss(out, data)\n",
    "        loss = recon_loss + quantize_loss\n",
    "        loss.backward()\n",
    "        nn.utils.clip_grad_norm_(model.parameters(), max_norm=1.0)\n",
    "        optimizer.step()\n",
    "        print(\n",
    "            f\"\\rEpoch {epoch}, Batch {batch_idx:03d}, Loss: {loss.item():.4f} = {recon_loss.item():.4f} + {quantize_loss.item():.4f}\",\n",
    "            end=\"\",\n",
    "        )\n",
    "    scheduler.step()\n",
    "    print(\"\")\n",
    "\n",
    "# torch.save(model.state_dict(), \"vqvae.ckpt\")"
   ]
  },
  {
   "cell_type": "markdown",
   "metadata": {},
   "source": [
    "### 5. Inference"
   ]
  },
  {
   "cell_type": "code",
   "execution_count": null,
   "metadata": {},
   "outputs": [],
   "source": [
    "def save(data, idx):\n",
    "    data = (data * 255).astype(np.uint8)\n",
    "    cv2.imwrite(f\"img_{idx}.png\", data)\n",
    "\n",
    "\n",
    "model.eval()\n",
    "with torch.no_grad():\n",
    "    for i in range(10):\n",
    "        data, _ = train_dataset[i]\n",
    "        data = data.unsqueeze(0).cuda()\n",
    "        x_recon, _ = model(data)\n",
    "        recon_img = x_recon.cpu().squeeze().numpy()\n",
    "        # Save or display recon_img\n",
    "        save(x_recon, i)\n"
   ]
  }
 ],
 "metadata": {
  "kernelspec": {
   "display_name": "Python 3",
   "language": "python",
   "name": "python3"
  },
  "language_info": {
   "codemirror_mode": {
    "name": "ipython",
    "version": 3
   },
   "file_extension": ".py",
   "mimetype": "text/x-python",
   "name": "python",
   "nbconvert_exporter": "python",
   "pygments_lexer": "ipython3",
   "version": "3.11.4"
  }
 },
 "nbformat": 4,
 "nbformat_minor": 2
}
