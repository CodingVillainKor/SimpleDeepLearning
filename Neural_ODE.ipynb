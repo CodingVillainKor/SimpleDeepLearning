{
  "nbformat": 4,
  "nbformat_minor": 0,
  "metadata": {
    "colab": {
      "provenance": [],
      "gpuType": "T4"
    },
    "kernelspec": {
      "name": "python3",
      "display_name": "Python 3"
    },
    "language_info": {
      "name": "python"
    },
    "gpuClass": "standard",
    "accelerator": "GPU"
  },
  "cells": [
    {
      "cell_type": "code",
      "execution_count": null,
      "metadata": {
        "colab": {
          "base_uri": "https://localhost:8080/"
        },
        "id": "ysYtGUmudhFw",
        "outputId": "ea41ca86-4ca0-4225-a0be-561e8d5ceda2"
      },
      "outputs": [
        {
          "output_type": "stream",
          "name": "stdout",
          "text": [
            "Collecting torchdiffeq\n",
            "  Downloading torchdiffeq-0.2.3-py3-none-any.whl (31 kB)\n",
            "Requirement already satisfied: torch>=1.3.0 in /usr/local/lib/python3.10/dist-packages (from torchdiffeq) (2.0.1+cu118)\n",
            "Requirement already satisfied: scipy>=1.4.0 in /usr/local/lib/python3.10/dist-packages (from torchdiffeq) (1.10.1)\n",
            "Requirement already satisfied: numpy<1.27.0,>=1.19.5 in /usr/local/lib/python3.10/dist-packages (from scipy>=1.4.0->torchdiffeq) (1.22.4)\n",
            "Requirement already satisfied: filelock in /usr/local/lib/python3.10/dist-packages (from torch>=1.3.0->torchdiffeq) (3.12.2)\n",
            "Requirement already satisfied: typing-extensions in /usr/local/lib/python3.10/dist-packages (from torch>=1.3.0->torchdiffeq) (4.6.3)\n",
            "Requirement already satisfied: sympy in /usr/local/lib/python3.10/dist-packages (from torch>=1.3.0->torchdiffeq) (1.11.1)\n",
            "Requirement already satisfied: networkx in /usr/local/lib/python3.10/dist-packages (from torch>=1.3.0->torchdiffeq) (3.1)\n",
            "Requirement already satisfied: jinja2 in /usr/local/lib/python3.10/dist-packages (from torch>=1.3.0->torchdiffeq) (3.1.2)\n",
            "Requirement already satisfied: triton==2.0.0 in /usr/local/lib/python3.10/dist-packages (from torch>=1.3.0->torchdiffeq) (2.0.0)\n",
            "Requirement already satisfied: cmake in /usr/local/lib/python3.10/dist-packages (from triton==2.0.0->torch>=1.3.0->torchdiffeq) (3.25.2)\n",
            "Requirement already satisfied: lit in /usr/local/lib/python3.10/dist-packages (from triton==2.0.0->torch>=1.3.0->torchdiffeq) (16.0.6)\n",
            "Requirement already satisfied: MarkupSafe>=2.0 in /usr/local/lib/python3.10/dist-packages (from jinja2->torch>=1.3.0->torchdiffeq) (2.1.3)\n",
            "Requirement already satisfied: mpmath>=0.19 in /usr/local/lib/python3.10/dist-packages (from sympy->torch>=1.3.0->torchdiffeq) (1.3.0)\n",
            "Installing collected packages: torchdiffeq\n",
            "Successfully installed torchdiffeq-0.2.3\n"
          ]
        }
      ],
      "source": [
        "!pip install torchdiffeq"
      ]
    },
    {
      "cell_type": "code",
      "source": [
        "from torchdiffeq import odeint_adjoint as odeint\n",
        "import torch\n",
        "import torch.nn as nn\n",
        "import torch.nn.functional as F\n",
        "import torch.optim as optim\n",
        "import numpy as np\n",
        "import os\n",
        "\n",
        "device = torch.device(\"cuda\")"
      ],
      "metadata": {
        "id": "1mRK6nlmeHz2"
      },
      "execution_count": null,
      "outputs": []
    },
    {
      "cell_type": "code",
      "source": [
        "class TargetFunction(nn.Module):\n",
        "    def __init__(self):\n",
        "        super().__init__()\n",
        "        self.true_function = torch.tensor([[-0.1, 2.0], [-2.0, -0.1]]).to(device)\n",
        "\n",
        "    def forward(self, t, x):\n",
        "        return torch.mm(x**3, self.true_function)\n",
        "\n",
        "starting_point = torch.tensor([[2.0, 0.]]).to(device)\n",
        "t = torch.linspace(0., 25., 1000).to(device)\n",
        "target_func = TargetFunction().to(device)\n",
        "\n",
        "with torch.no_grad():\n",
        "    true_dxdt = odeint(target_func, starting_point, t)\n",
        "\n",
        "print(\"> Starting point = {}\".format(starting_point.squeeze()))\n",
        "print(\"> t.shape = {}\".format(t.shape))\n",
        "print(\"> true_dxdt.shape = {}\".format(true_dxdt.shape))"
      ],
      "metadata": {
        "colab": {
          "base_uri": "https://localhost:8080/"
        },
        "id": "_8mN11OUe-Gl",
        "outputId": "36ac52d5-c8fc-4089-f9ae-b4b40281ccdc"
      },
      "execution_count": null,
      "outputs": [
        {
          "output_type": "stream",
          "name": "stdout",
          "text": [
            "> Starting point = tensor([2., 0.], device='cuda:0')\n",
            "> t.shape = torch.Size([1000])\n",
            "> true_dxdt.shape = torch.Size([1000, 1, 2])\n"
          ]
        }
      ]
    },
    {
      "cell_type": "code",
      "source": [
        "def get_batch():\n",
        "    random_points = np.random.choice(np.arange(990, dtype=np.int64), 768, replace=False)\n",
        "    batch_starting_point = true_dxdt[random_points]\n",
        "    batch_t = t[:10]\n",
        "    batch_dxdt = torch.stack([true_dxdt[random_points + i] for i in range(10)], dim=0)\n",
        "\n",
        "    return batch_starting_point, batch_t, batch_dxdt"
      ],
      "metadata": {
        "id": "gP88LQRLlFY8"
      },
      "execution_count": null,
      "outputs": []
    },
    {
      "cell_type": "markdown",
      "source": [],
      "metadata": {
        "id": "-YpdMmXX0Q09"
      }
    },
    {
      "cell_type": "code",
      "source": [
        "class PredictFunction(nn.Module):\n",
        "    def __init__(self):\n",
        "        super().__init__()\n",
        "\n",
        "        self.net = nn.Sequential(\n",
        "            nn.Linear(2, 16),\n",
        "            nn.ReLU(),\n",
        "            nn.Linear(16, 50),\n",
        "            nn.ReLU(),\n",
        "            nn.Linear(50, 50),\n",
        "            nn.ReLU(),\n",
        "            nn.Linear(50, 16),\n",
        "            nn.ReLU(),\n",
        "            nn.Linear(16, 2)\n",
        "        )\n",
        "\n",
        "    def forward(self, t, x):\n",
        "        return self.net(x)"
      ],
      "metadata": {
        "id": "i8eSU_94izdL"
      },
      "execution_count": null,
      "outputs": []
    },
    {
      "cell_type": "code",
      "source": [
        "import matplotlib.pyplot as plt\n",
        "def visualize(true_y, pred_y, odefunc, itr):\n",
        "    fig = plt.figure(figsize=(12, 4), facecolor='white')\n",
        "    ax_traj = fig.add_subplot(131, frameon=False)\n",
        "    ax_phase = fig.add_subplot(132, frameon=False)\n",
        "    ax_vecfield = fig.add_subplot(133, frameon=False)\n",
        "    ax_traj.cla()\n",
        "    ax_traj.set_title('Trajectories')\n",
        "    ax_traj.set_xlabel('t')\n",
        "    ax_traj.set_ylabel('x,y')\n",
        "    ax_traj.plot(t.cpu().numpy(), true_y.cpu().numpy()[:, 0, 0], t.cpu().numpy(), true_y.cpu().numpy()[:, 0, 1], 'g-')\n",
        "    ax_traj.plot(t.cpu().numpy(), pred_y.cpu().numpy()[:, 0, 0], '--', t.cpu().numpy(), pred_y.cpu().numpy()[:, 0, 1], 'b--')\n",
        "    ax_traj.set_xlim(t.cpu().min(), t.cpu().max())\n",
        "    ax_traj.set_ylim(-2, 2)\n",
        "\n",
        "    ax_phase.cla()\n",
        "    ax_phase.set_title('Phase Portrait')\n",
        "    ax_phase.set_xlabel('x')\n",
        "    ax_phase.set_ylabel('y')\n",
        "    ax_phase.plot(true_y.cpu().numpy()[:, 0, 0], true_y.cpu().numpy()[:, 0, 1], 'g-')\n",
        "    ax_phase.plot(pred_y.cpu().numpy()[:, 0, 0], pred_y.cpu().numpy()[:, 0, 1], 'b--')\n",
        "    ax_phase.set_xlim(-2, 2)\n",
        "    ax_phase.set_ylim(-2, 2)\n",
        "\n",
        "    ax_vecfield.cla()\n",
        "    ax_vecfield.set_title('Learned Vector Field')\n",
        "    ax_vecfield.set_xlabel('x')\n",
        "    ax_vecfield.set_ylabel('y')\n",
        "\n",
        "    y, x = np.mgrid[-2:2:21j, -2:2:21j]\n",
        "    dydt = odefunc(0, torch.Tensor(np.stack([x, y], -1).reshape(21 * 21, 2)).to(device)).cpu().detach().numpy()\n",
        "    mag = np.sqrt(dydt[:, 0]**2 + dydt[:, 1]**2).reshape(-1, 1)\n",
        "    dydt = (dydt / mag)\n",
        "    dydt = dydt.reshape(21, 21, 2)\n",
        "\n",
        "    ax_vecfield.streamplot(x, y, dydt[:, :, 0], dydt[:, :, 1], color=\"black\")\n",
        "    ax_vecfield.set_xlim(-2, 2)\n",
        "    ax_vecfield.set_ylim(-2, 2)\n",
        "\n",
        "    fig.tight_layout()\n",
        "    plt.savefig('png/{:03d}.png'.format(itr))\n",
        "    #plt.draw()\n",
        "    #plt.pause(0.001)"
      ],
      "metadata": {
        "id": "e3-lMYe5uP5F"
      },
      "execution_count": null,
      "outputs": []
    },
    {
      "cell_type": "code",
      "source": [
        "net = PredictFunction().to(device)\n",
        "opt = optim.Adam(net.parameters(), lr=3e-4)\n",
        "os.makedirs(\"png\", exist_ok=True)\n",
        "\n",
        "for i in range(3000+1):\n",
        "    opt.zero_grad()https:\\\\\\\\colab.research.google.com\\\\a93e4ab1-c004-40da-8cea-f5bcbedcbb07\n",
        "    batch_starting, batch_t, batch_dxdt = get_batch()\n",
        "    pred_dxdt = odeint(net, batch_starting, batch_t).to(device)\n",
        "    loss = F.l1_loss(pred_dxdt, batch_dxdt)\n",
        "    loss.backward()\n",
        "    opt.step()\n",
        "    print(\"\\r> [{}/3000] loss = {:.3f}\".format(i, loss.item()), end='')\n",
        "\n",
        "    if i % 300 == 0:\n",
        "        with torch.no_grad():\n",
        "            pred_dxdt = odeint(net, starting_point, t)\n",
        "            visualize(true_dxdt, pred_dxdt, net, i)\n",
        "        print(\"\")"
      ],
      "metadata": {
        "colab": {
          "base_uri": "https://localhost:8080/"
        },
        "id": "CiA9tmiHpkx6",
        "outputId": "9dcc072c-117c-463f-9882-586f7832c099"
      },
      "execution_count": null,
      "outputs": [
        {
          "output_type": "stream",
          "name": "stdout",
          "text": [
            "> [0/3000] loss = 0.087\n",
            "> [300/3000] loss = 0.051\n",
            "> [600/3000] loss = 0.027\n",
            "> [900/3000] loss = 0.013\n",
            "> [1200/3000] loss = 0.007\n",
            "> [1500/3000] loss = 0.005\n",
            "> [1800/3000] loss = 0.003\n",
            "> [2100/3000] loss = 0.002\n",
            "> [2400/3000] loss = 0.001\n",
            "> [2687/3000] loss = 0.001"
          ]
        }
      ]
    },
    {
      "cell_type": "code",
      "source": [],
      "metadata": {
        "id": "Jm60tmjN5X7i"
      },
      "execution_count": null,
      "outputs": []
    }
  ]
}
