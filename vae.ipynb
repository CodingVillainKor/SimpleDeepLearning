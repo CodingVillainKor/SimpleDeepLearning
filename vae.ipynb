{
 "cells": [
  {
   "cell_type": "code",
   "execution_count": 1,
   "metadata": {},
   "outputs": [
    {
     "name": "stdout",
     "output_type": "stream",
     "text": [
      "device = cuda\n"
     ]
    }
   ],
   "source": [
    "import torch\n",
    "import torch.nn as nn\n",
    "from torch.utils.data import DataLoader\n",
    "\n",
    "device = torch.device(\"cuda\" if torch.cuda.is_available() else \"cpu\")\n",
    "print(f\"device = {device}\")"
   ]
  },
  {
   "cell_type": "code",
   "execution_count": 2,
   "metadata": {},
   "outputs": [
    {
     "name": "stdout",
     "output_type": "stream",
     "text": [
      "Downloading http://yann.lecun.com/exdb/mnist/train-images-idx3-ubyte.gz\n",
      "Downloading http://yann.lecun.com/exdb/mnist/train-images-idx3-ubyte.gz to ./MNIST\\raw\\train-images-idx3-ubyte.gz\n"
     ]
    },
    {
     "name": "stderr",
     "output_type": "stream",
     "text": [
      "100%|██████████| 9912422/9912422 [00:00<00:00, 30112030.95it/s]\n"
     ]
    },
    {
     "name": "stdout",
     "output_type": "stream",
     "text": [
      "Extracting ./MNIST\\raw\\train-images-idx3-ubyte.gz to ./MNIST\\raw\n",
      "\n",
      "Downloading http://yann.lecun.com/exdb/mnist/train-labels-idx1-ubyte.gz\n",
      "Downloading http://yann.lecun.com/exdb/mnist/train-labels-idx1-ubyte.gz to ./MNIST\\raw\\train-labels-idx1-ubyte.gz\n"
     ]
    },
    {
     "name": "stderr",
     "output_type": "stream",
     "text": [
      "100%|██████████| 28881/28881 [00:00<00:00, 1653458.73it/s]\n"
     ]
    },
    {
     "name": "stdout",
     "output_type": "stream",
     "text": [
      "Extracting ./MNIST\\raw\\train-labels-idx1-ubyte.gz to ./MNIST\\raw\n",
      "\n",
      "Downloading http://yann.lecun.com/exdb/mnist/t10k-images-idx3-ubyte.gz\n",
      "Downloading http://yann.lecun.com/exdb/mnist/t10k-images-idx3-ubyte.gz to ./MNIST\\raw\\t10k-images-idx3-ubyte.gz\n"
     ]
    },
    {
     "name": "stderr",
     "output_type": "stream",
     "text": [
      "100%|██████████| 1648877/1648877 [00:00<00:00, 10304400.89it/s]\n"
     ]
    },
    {
     "name": "stdout",
     "output_type": "stream",
     "text": [
      "Extracting ./MNIST\\raw\\t10k-images-idx3-ubyte.gz to ./MNIST\\raw\n",
      "\n",
      "Downloading http://yann.lecun.com/exdb/mnist/t10k-labels-idx1-ubyte.gz\n",
      "Downloading http://yann.lecun.com/exdb/mnist/t10k-labels-idx1-ubyte.gz to ./MNIST\\raw\\t10k-labels-idx1-ubyte.gz\n"
     ]
    },
    {
     "name": "stderr",
     "output_type": "stream",
     "text": [
      "100%|██████████| 4542/4542 [00:00<?, ?it/s]"
     ]
    },
    {
     "name": "stdout",
     "output_type": "stream",
     "text": [
      "Extracting ./MNIST\\raw\\t10k-labels-idx1-ubyte.gz to ./MNIST\\raw\n",
      "\n",
      "data.shape = [60000, 28, 28]\n",
      "batch size = 60000\n",
      "data shape = [28, 28] \n"
     ]
    },
    {
     "name": "stderr",
     "output_type": "stream",
     "text": [
      "\n"
     ]
    }
   ],
   "source": [
    "import torchvision\n",
    "data = torchvision.datasets.MNIST(root=\"./\", download=True)\n",
    "train_data = data.data\n",
    "dl = DataLoader(train_data, batch_size=192)\n",
    "print(f\"data.shape = {list(train_data.shape)}\")\n",
    "print(f\"batch size = {train_data.shape[0]}\")\n",
    "print(f\"data shape = {list(train_data.shape[1:])} \")\n"
   ]
  },
  {
   "cell_type": "code",
   "execution_count": 3,
   "metadata": {},
   "outputs": [],
   "source": [
    "h, z_size = 1024, 2\n",
    "encoder = nn.Sequential(\n",
    "    nn.Linear(28*28, h),\n",
    "    nn.ReLU(),\n",
    "    nn.Linear(h, h),\n",
    "    nn.ReLU(),\n",
    "    nn.Linear(h, z_size*2)\n",
    ")\n",
    "decoder = nn.Sequential(\n",
    "    nn.Linear(z_size, h),\n",
    "    nn.ReLU(),\n",
    "    nn.Linear(h, h),\n",
    "    nn.ReLU(),\n",
    "    nn.Linear(h, 28*28),\n",
    "    nn.Sigmoid()\n",
    ")\n",
    "model = nn.Sequential(encoder, decoder).to(device)\n"
   ]
  },
  {
   "cell_type": "code",
   "execution_count": 4,
   "metadata": {},
   "outputs": [],
   "source": [
    "opt = torch.optim.Adam(model.parameters(), lr=0.001, betas=(0.9, 0.999))\n",
    "def vae_loss(x, x_hat, mean, logvar):\n",
    "    recon_loss = torch.nn.functional.binary_cross_entropy(x_hat, x)\n",
    "    \n",
    "    var = torch.exp(logvar)\n",
    "    kl_loss = 0.5 * torch.mean(mean**2 + var - logvar - 1)\n",
    "    return recon_loss, kl_loss"
   ]
  },
  {
   "cell_type": "code",
   "execution_count": 5,
   "metadata": {},
   "outputs": [
    {
     "name": "stdout",
     "output_type": "stream",
     "text": [
      "Epoch 1: loss = 0.213 = 0.212 + 0.001\n",
      "Epoch 2: loss = 0.192 = 0.191 + 0.001\n",
      "Epoch 3: loss = 0.180 = 0.178 + 0.001\n",
      "Epoch 4: loss = 0.172 = 0.171 + 0.001\n",
      "Epoch 5: loss = 0.168 = 0.167 + 0.001\n",
      "Epoch 6: loss = 0.166 = 0.165 + 0.001\n",
      "Epoch 7: loss = 0.166 = 0.165 + 0.001\n",
      "Epoch 8: loss = 0.162 = 0.162 + 0.001\n",
      "Epoch 9: loss = 0.161 = 0.160 + 0.001\n",
      "Epoch 10: loss = 0.161 = 0.160 + 0.001\n",
      "Epoch 11: loss = 0.159 = 0.159 + 0.001\n",
      "Epoch 12: loss = 0.160 = 0.159 + 0.001\n",
      "Epoch 13: loss = 0.161 = 0.161 + 0.001\n",
      "Epoch 14: loss = 0.158 = 0.158 + 0.001\n",
      "Epoch 15: loss = 0.157 = 0.156 + 0.001\n",
      "Epoch 16: loss = 0.157 = 0.156 + 0.001\n",
      "Epoch 17: loss = 0.157 = 0.156 + 0.001\n",
      "Epoch 18: loss = 0.156 = 0.155 + 0.001\n",
      "Epoch 19: loss = 0.155 = 0.155 + 0.001\n",
      "Epoch 20: loss = 0.155 = 0.155 + 0.001\n"
     ]
    }
   ],
   "source": [
    "mode = \"AE\" # AE / z0AE / VAE\n",
    "\n",
    "for e in range(1, 20+1):\n",
    "    for x in dl:\n",
    "        opt.zero_grad()\n",
    "        x = x.to(device=device, dtype=torch.float) / 255\n",
    "        x = x.view(x.shape[0], -1)\n",
    "        z = encoder(x)\n",
    "        z1, z2 = z[:, :z.shape[1]//2], z[:, z.shape[1]//2:]\n",
    "        if mode == \"VAE\":\n",
    "            sig = torch.exp(0.5 * z2)\n",
    "            z = z1 + sig*torch.randn_like(z1, device=device)\n",
    "        if mode == \"z0AE\" or \"AE\":\n",
    "            z = z1\n",
    "        x_hat = decoder(z)\n",
    "\n",
    "        if mode == \"VAE\":\n",
    "            rl, kl = vae_loss(x, x_hat, z1, z2)\n",
    "            loss = rl + kl\n",
    "        if mode == \"z0AE\":\n",
    "            loss = rl + z1.abs().mean()\n",
    "        if mode == \"AE\":\n",
    "            loss = rl\n",
    "        loss.backward()\n",
    "        opt.step()\n",
    "        print(f\"\\rEpoch {e}: loss = {loss.item():.3f} = {rl.item():.3f} + {kl.item():.3f}\", end=\"\")\n",
    "    print()\n",
    "    "
   ]
  },
  {
   "cell_type": "code",
   "execution_count": 13,
   "metadata": {},
   "outputs": [
    {
     "name": "stdout",
     "output_type": "stream",
     "text": [
      "tensor(3.9756, device='cuda:0', grad_fn=<MaxBackward1>) tensor(-3.1758, device='cuda:0', grad_fn=<MinBackward1>) tensor(1.0295, device='cuda:0', grad_fn=<StdBackward0>)\n"
     ]
    },
    {
     "data": {
      "text/plain": [
       "<matplotlib.image.AxesImage at 0x20a686b18d0>"
      ]
     },
     "execution_count": 13,
     "metadata": {},
     "output_type": "execute_result"
    },
    {
     "data": {
      "image/png": "[encoded data removed]",
      "text/plain": [
       "<Figure size 640x480 with 1 Axes>"
      ]
     },
     "metadata": {},
     "output_type": "display_data"
    }
   ],
   "source": [
    "import matplotlib.pyplot as plt\n",
    "print(z1.max(), z1.min(), z1.std())\n",
    "plt.imshow(decoder(torch.randn(1, z_size).cuda()).view(28, 28).detach().cpu().numpy())"
   ]
  }
 ],
 "metadata": {
  "kernelspec": {
   "display_name": "Python 3",
   "language": "python",
   "name": "python3"
  },
  "language_info": {
   "codemirror_mode": {
    "name": "ipython",
    "version": 3
   },
   "file_extension": ".py",
   "mimetype": "text/x-python",
   "name": "python",
   "nbconvert_exporter": "python",
   "pygments_lexer": "ipython3",
   "version": "3.11.4"
  }
 },
 "nbformat": 4,
 "nbformat_minor": 2
}
